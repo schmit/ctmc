{
 "cells": [
  {
   "cell_type": "code",
   "execution_count": 1,
   "metadata": {
    "collapsed": true
   },
   "outputs": [],
   "source": [
    "import random\n",
    "\n",
    "import numpy as np\n",
    "import scipy as sp\n",
    "\n",
    "import scipy.linalg\n",
    "import scipy.optimize\n",
    "\n",
    "import matplotlib.pyplot as plt\n",
    "%matplotlib inline\n",
    "\n",
    "import seaborn as sns\n",
    "sns.set_style(\"white\")\n",
    "sns.set_context(\"talk\")"
   ]
  },
  {
   "cell_type": "code",
   "execution_count": 2,
   "metadata": {
    "collapsed": false
   },
   "outputs": [],
   "source": [
    "from markovc import *"
   ]
  },
  {
   "cell_type": "code",
   "execution_count": 3,
   "metadata": {
    "collapsed": true
   },
   "outputs": [],
   "source": [
    "from data import *\n",
    "from inference import *"
   ]
  },
  {
   "cell_type": "code",
   "execution_count": 4,
   "metadata": {
    "collapsed": false
   },
   "outputs": [],
   "source": [
    "def dnll(x, data):\n",
    "    \"\"\"\n",
    "    Negative log-likelihood of x given data\n",
    "    \"\"\"\n",
    "    Q = create_rate_matrix_from_vector(x)\n",
    "    n, _ = Q.shape\n",
    "    dqiS = np.zeros((n, n))\n",
    "\n",
    "    \n",
    "    for (winner, choices), count in data.items():\n",
    "        winner_idx = [idx for idx, val in enumerate(choices) if winner==val][0]\n",
    "\n",
    "        Qs = subchain(Q, choices)\n",
    "        Ps = embedded_jump_chain(Qs)\n",
    "        piS = equi_dtmc(Ps)\n",
    "        qiS = equi_ctmc(Qs)[winner_idx]\n",
    "        \n",
    "        const = -count/qiS\n",
    "\n",
    "        choicesIndices = [(c, i) for i, c in enumerate(choices)]\n",
    "        \n",
    "        for k in range(len(choicesIndices)):\n",
    "            for l in range(k+1, len(choicesIndices)):\n",
    "                i, isub = choicesIndices[k]\n",
    "                j, jsub = choicesIndices[l]\n",
    "                dqiS[i, j] += const * equi_deriv_ctmc(Qs, Ps, piS, (isub, jsub))[winner_idx]\n",
    "    \n",
    "    # flatten dqiS\n",
    "    dx = dqiS[np.triu_indices(n, 1)]\n",
    "    print(x, dx)\n",
    "    return dx\n",
    "\n"
   ]
  },
  {
   "cell_type": "code",
   "execution_count": 5,
   "metadata": {
    "collapsed": true
   },
   "outputs": [],
   "source": [
    "def fdnll(x, xd, data):\n",
    "    return nll(xd, data) - nll(x, data)\n",
    "\n",
    "def fd_equideriv(x, xd):\n",
    "    Qd = create_rate_matrix_from_vector(xd)\n",
    "    Q = create_rate_matrix_from_vector(x)\n",
    "    \n",
    "    return equi_ctmc(Qd) - equi_ctmc(Q)"
   ]
  },
  {
   "cell_type": "code",
   "execution_count": 28,
   "metadata": {
    "collapsed": false
   },
   "outputs": [
    {
     "data": {
      "text/plain": [
       "array([[-1. ,  0.7,  0.3],\n",
       "       [ 0.3, -1. ,  0.7],\n",
       "       [ 0.7,  0.3, -1. ]])"
      ]
     },
     "execution_count": 28,
     "metadata": {},
     "output_type": "execute_result"
    }
   ],
   "source": [
    "alpha = 0.7\n",
    "x = [alpha, 1-alpha, alpha]\n",
    "Q = create_rate_matrix_from_vector(x)\n",
    "\n",
    "P = embedded_jump_chain(Q)\n",
    "pi = equi_dtmc(P)\n",
    "\n",
    "Q"
   ]
  },
  {
   "cell_type": "code",
   "execution_count": 29,
   "metadata": {
    "collapsed": false
   },
   "outputs": [
    {
     "data": {
      "text/plain": [
       "array([-0.47819972,  0.36568214,  0.11251758])"
      ]
     },
     "execution_count": 29,
     "metadata": {},
     "output_type": "execute_result"
    }
   ],
   "source": [
    "equi_deriv_ctmc(Q, P, pi, (0,1))"
   ]
  },
  {
   "cell_type": "code",
   "execution_count": 30,
   "metadata": {
    "collapsed": false
   },
   "outputs": [],
   "source": [
    "data = gen_data(Q, 1000)"
   ]
  },
  {
   "cell_type": "code",
   "execution_count": 31,
   "metadata": {
    "collapsed": false,
    "scrolled": false
   },
   "outputs": [
    {
     "name": "stdout",
     "output_type": "stream",
     "text": [
      "[ 0.91724519  0.67940322  0.1389017 ] [ 1303.30023956   496.30962621 -1649.05652573]\n",
      "[  1.00000000e-04   1.00000000e-04   9.99900000e-01] [-2729699.01744596 -1349744.97799797   779906.96349916]\n",
      "[ 0.50421367  0.37348258  0.52664776] [-229.7351537    29.24514682 -192.99096028]\n",
      "[ 0.56805103  0.36532991  0.58361458] [-157.9366031    33.3971632  -131.67373358]\n",
      "[ 0.71386275  0.30402066  0.7082297 ] [  8.47138501 -25.05709809   8.33470464]\n",
      "[ 0.70459458  0.32808999  0.70208123] [ -1.83733123  10.23492447   3.06584169]\n",
      "[ 0.70525257  0.32119951  0.70104954] [-1.48424465 -0.15027765  0.63122933]\n",
      "[ 0.70596247  0.32114971  0.7011216 ] [-0.46862501 -0.14192465  0.64555981]\n",
      "[ 0.70624077  0.32121415  0.70083588] [-0.02256603 -0.04872508  0.19567295]\n",
      "[ 0.70625117  0.32125349  0.70070913] [ 0.01220709 -0.00307883  0.01129528]\n",
      "[ 0.70624262  0.32125675  0.70070059] [  1.16487855e-03  -6.49371935e-05   7.82457973e-05]\n",
      "        x: array([ 0.70624262,  0.32125675,  0.70070059])\n",
      "  message: b'CONVERGENCE: REL_REDUCTION_OF_F_<=_FACTR*EPSMCH'\n",
      "  success: True\n",
      "      nit: 9\n",
      "     nfev: 11\n",
      "      fun: 713.53036832096109\n",
      " hess_inv: <3x3 LbfgsInvHessProduct with dtype=float64>\n",
      "   status: 0\n",
      "      jac: array([  1.16487855e-03,  -6.49371935e-05,   7.82457973e-05])\n"
     ]
    }
   ],
   "source": [
    "x0 = [random.random() for _ in range(len(x))]\n",
    "\n",
    "res = sp.optimize.minimize(lambda x: nll(x, data), x0, \n",
    "                           jac=lambda x: dnll(x, data), \n",
    "                           method=\"L-BFGS-B\", bounds=[(0.0001, 0.9999) for _ in range(len(x0))])\n",
    "# maxits = 100\n",
    "# x = x0\n",
    "# alpha = 1e-4\n",
    "# for k in range(maxits):\n",
    "#     x = x + alpha * dnll(x, data)\n",
    "#     x = np.clip(x, 0.1, 0.9)\n",
    "\n",
    "print(res)"
   ]
  },
  {
   "cell_type": "code",
   "execution_count": 32,
   "metadata": {
    "collapsed": false
   },
   "outputs": [],
   "source": [
    "xopt = res['x']\n",
    "Qhat = create_rate_matrix_from_vector(xopt)"
   ]
  },
  {
   "cell_type": "code",
   "execution_count": 33,
   "metadata": {
    "collapsed": false
   },
   "outputs": [
    {
     "data": {
      "text/plain": [
       "array([[-1.02749936,  0.70624262,  0.32125675],\n",
       "       [ 0.29375738, -0.99445798,  0.70070059],\n",
       "       [ 0.67874325,  0.29929941, -0.97804266]])"
      ]
     },
     "execution_count": 33,
     "metadata": {},
     "output_type": "execute_result"
    }
   ],
   "source": [
    "Qhat"
   ]
  },
  {
   "cell_type": "code",
   "execution_count": 34,
   "metadata": {
    "collapsed": false
   },
   "outputs": [
    {
     "data": {
      "text/plain": [
       "713.53036832096109"
      ]
     },
     "execution_count": 34,
     "metadata": {},
     "output_type": "execute_result"
    }
   ],
   "source": [
    "nll(xopt, data)"
   ]
  },
  {
   "cell_type": "code",
   "execution_count": 35,
   "metadata": {
    "collapsed": false
   },
   "outputs": [
    {
     "data": {
      "text/plain": [
       "713.9235423376158"
      ]
     },
     "execution_count": 35,
     "metadata": {},
     "output_type": "execute_result"
    }
   ],
   "source": [
    "nll(x, data)"
   ]
  },
  {
   "cell_type": "code",
   "execution_count": null,
   "metadata": {
    "collapsed": false
   },
   "outputs": [],
   "source": [
    "Phat = embedded_jump_chain(Qhat)\n",
    "pihat = equi_ctmc(Qhat)"
   ]
  },
  {
   "cell_type": "code",
   "execution_count": null,
   "metadata": {
    "collapsed": false
   },
   "outputs": [],
   "source": [
    "equi_deriv_ctmc(Qhat, Phat, pihat, (2, 1))"
   ]
  },
  {
   "cell_type": "code",
   "execution_count": null,
   "metadata": {
    "collapsed": false
   },
   "outputs": [],
   "source": [
    "nll(x0, data), dnll(x0, data)"
   ]
  },
  {
   "cell_type": "code",
   "execution_count": null,
   "metadata": {
    "collapsed": false
   },
   "outputs": [],
   "source": [
    "nll(xopt, data), dnll(xopt, data)"
   ]
  },
  {
   "cell_type": "code",
   "execution_count": null,
   "metadata": {
    "collapsed": false
   },
   "outputs": [],
   "source": [
    "for (winner, choices), count in gen_data(Q, 10).items():\n",
    "    print(winner, choices, count)"
   ]
  },
  {
   "cell_type": "code",
   "execution_count": null,
   "metadata": {
    "collapsed": true
   },
   "outputs": [],
   "source": [
    "x = list(range(5))"
   ]
  },
  {
   "cell_type": "code",
   "execution_count": null,
   "metadata": {
    "collapsed": true
   },
   "outputs": [],
   "source": [
    "choices = (2 ,5)"
   ]
  },
  {
   "cell_type": "code",
   "execution_count": null,
   "metadata": {
    "collapsed": false
   },
   "outputs": [],
   "source": [
    "[(i, x) for i, x in enumerate(choices)]"
   ]
  },
  {
   "cell_type": "code",
   "execution_count": null,
   "metadata": {
    "collapsed": false
   },
   "outputs": [],
   "source": [
    "np.triu_indices(3, 1)"
   ]
  },
  {
   "cell_type": "code",
   "execution_count": null,
   "metadata": {
    "collapsed": false
   },
   "outputs": [],
   "source": [
    "Q[np.triu_indices(3, 1)]"
   ]
  },
  {
   "cell_type": "code",
   "execution_count": null,
   "metadata": {
    "collapsed": false
   },
   "outputs": [],
   "source": [
    "Q"
   ]
  },
  {
   "cell_type": "code",
   "execution_count": null,
   "metadata": {
    "collapsed": false
   },
   "outputs": [],
   "source": [
    "dnll(x0, data)"
   ]
  },
  {
   "cell_type": "code",
   "execution_count": null,
   "metadata": {
    "collapsed": false
   },
   "outputs": [],
   "source": [
    "dnll(xopt, data)"
   ]
  },
  {
   "cell_type": "code",
   "execution_count": null,
   "metadata": {
    "collapsed": true
   },
   "outputs": [],
   "source": [
    "sp.optimize.minimize?"
   ]
  },
  {
   "cell_type": "code",
   "execution_count": null,
   "metadata": {
    "collapsed": false
   },
   "outputs": [],
   "source": [
    "nll(x0, data)"
   ]
  },
  {
   "cell_type": "code",
   "execution_count": null,
   "metadata": {
    "collapsed": false
   },
   "outputs": [],
   "source": [
    "nll(xopt, data)"
   ]
  },
  {
   "cell_type": "code",
   "execution_count": null,
   "metadata": {
    "collapsed": false
   },
   "outputs": [],
   "source": [
    "dnll(xopt, data)"
   ]
  },
  {
   "cell_type": "code",
   "execution_count": null,
   "metadata": {
    "collapsed": false
   },
   "outputs": [],
   "source": [
    "delta = 1e-8\n",
    "\n",
    "ind = np.array([1, 0, 0])\n",
    "\n",
    "x = x0\n",
    "xp = x + delta * ind\n",
    "\n",
    "(dnll(x, data) @ ind - fdnll(x, xp, data) / delta) / (dnll(x, data) @ ind)"
   ]
  },
  {
   "cell_type": "code",
   "execution_count": null,
   "metadata": {
    "collapsed": false
   },
   "outputs": [],
   "source": [
    "xopt"
   ]
  },
  {
   "cell_type": "code",
   "execution_count": null,
   "metadata": {
    "collapsed": false
   },
   "outputs": [],
   "source": [
    "create_rate_matrix_from_vector(x0)"
   ]
  },
  {
   "cell_type": "code",
   "execution_count": null,
   "metadata": {
    "collapsed": false
   },
   "outputs": [],
   "source": [
    "create_rate_matrix_from_vector(x1)"
   ]
  },
  {
   "cell_type": "code",
   "execution_count": null,
   "metadata": {
    "collapsed": false
   },
   "outputs": [],
   "source": [
    "nll(x0, data)"
   ]
  },
  {
   "cell_type": "code",
   "execution_count": null,
   "metadata": {
    "collapsed": false
   },
   "outputs": [],
   "source": [
    "nll(x1, data)"
   ]
  },
  {
   "cell_type": "code",
   "execution_count": null,
   "metadata": {
    "collapsed": false
   },
   "outputs": [],
   "source": [
    "fd_equideriv(x, xp)/delta"
   ]
  },
  {
   "cell_type": "code",
   "execution_count": null,
   "metadata": {
    "collapsed": false
   },
   "outputs": [],
   "source": [
    "Q = create_rate_matrix_from_vector(x)\n",
    "P = embedded_jump_chain(Q)\n",
    "pi = equi_dtmc(P)\n",
    "\n",
    "equi_deriv_ctmc(Q, P, pi, (0, 1))"
   ]
  },
  {
   "cell_type": "code",
   "execution_count": null,
   "metadata": {
    "collapsed": false
   },
   "outputs": [],
   "source": [
    "x"
   ]
  },
  {
   "cell_type": "code",
   "execution_count": null,
   "metadata": {
    "collapsed": false
   },
   "outputs": [],
   "source": [
    "xp"
   ]
  },
  {
   "cell_type": "code",
   "execution_count": null,
   "metadata": {
    "collapsed": true
   },
   "outputs": [],
   "source": []
  }
 ],
 "metadata": {
  "kernelspec": {
   "display_name": "Python 3",
   "language": "python",
   "name": "python3"
  },
  "language_info": {
   "codemirror_mode": {
    "name": "ipython",
    "version": 3
   },
   "file_extension": ".py",
   "mimetype": "text/x-python",
   "name": "python",
   "nbconvert_exporter": "python",
   "pygments_lexer": "ipython3",
   "version": "3.5.1"
  }
 },
 "nbformat": 4,
 "nbformat_minor": 0
}
