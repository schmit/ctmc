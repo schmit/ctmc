{
 "cells": [
  {
   "cell_type": "code",
   "execution_count": 1,
   "metadata": {
    "collapsed": false
   },
   "outputs": [],
   "source": [
    "import random\n",
    "\n",
    "import numpy as np\n",
    "import scipy as sp\n",
    "\n",
    "import scipy.linalg\n",
    "import scipy.optimize\n",
    "\n",
    "import matplotlib.pyplot as plt\n",
    "%matplotlib inline\n",
    "\n",
    "import seaborn as sns\n",
    "sns.set_style(\"white\")\n",
    "sns.set_context(\"talk\")"
   ]
  },
  {
   "cell_type": "code",
   "execution_count": 2,
   "metadata": {
    "collapsed": false
   },
   "outputs": [],
   "source": [
    "from markovc import *"
   ]
  },
  {
   "cell_type": "code",
   "execution_count": 3,
   "metadata": {
    "collapsed": true
   },
   "outputs": [],
   "source": [
    "from data import *"
   ]
  },
  {
   "cell_type": "code",
   "execution_count": 4,
   "metadata": {
    "collapsed": false
   },
   "outputs": [
    {
     "data": {
      "text/plain": [
       "array([[ 0.        ,  0.3       ,  0.7       ],\n",
       "       [ 0.82352941,  0.        ,  0.17647059],\n",
       "       [ 0.26086957,  0.73913043,  0.        ]])"
      ]
     },
     "execution_count": 4,
     "metadata": {},
     "output_type": "execute_result"
    }
   ],
   "source": [
    "alpha = 0.3\n",
    "x = [alpha, 1-alpha, alpha*0.5]\n",
    "Q = create_rate_matrix_from_vector(x)\n",
    "\n",
    "P = embedded_jump_chain(Q)\n",
    "pi = equi_dtmc(P)\n",
    "P"
   ]
  },
  {
   "cell_type": "code",
   "execution_count": 5,
   "metadata": {
    "collapsed": false
   },
   "outputs": [
    {
     "data": {
      "text/plain": [
       "array([ 0.39407949, -0.56080543,  0.16672594])"
      ]
     },
     "execution_count": 5,
     "metadata": {},
     "output_type": "execute_result"
    }
   ],
   "source": [
    "equi_deriv_ctmc(Q, P, pi, (0,1))"
   ]
  },
  {
   "cell_type": "code",
   "execution_count": 6,
   "metadata": {
    "collapsed": false
   },
   "outputs": [],
   "source": [
    "def nll(xhat, data):\n",
    "    Qhat = create_rate_matrix_from_vector(xhat)\n",
    "    \n",
    "    s = 0\n",
    "    for (winner, choices), count in data.items():\n",
    "#         print(\"{} {} {}\".format(winner, choices, count))\n",
    "        winner_idx = [idx for idx, val in enumerate(choices) if winner==val][0]\n",
    "        Qs = submatrix(Qhat, choices)\n",
    "        try:\n",
    "            piS = equi_ctmc(Qs)[winner_idx]\n",
    "        except ValueError:\n",
    "            print(xhat)\n",
    "            raise\n",
    "        \n",
    "#         print(piS)\n",
    "\n",
    "        s += count * np.log(np.abs(piS))    \n",
    "        \n",
    "    return -s"
   ]
  },
  {
   "cell_type": "code",
   "execution_count": 7,
   "metadata": {
    "collapsed": false
   },
   "outputs": [
    {
     "name": "stdout",
     "output_type": "stream",
     "text": [
      "  message: b'CONVERGENCE: REL_REDUCTION_OF_F_<=_FACTR*EPSMCH'\n",
      "  success: True\n",
      "        x: array([ 0.28202449,  0.70923999,  0.13709332])\n",
      " hess_inv: <3x3 LbfgsInvHessProduct with dtype=float64>\n",
      "     nfev: 48\n",
      "      nit: 10\n",
      "      fun: 3645.2590380467964\n",
      "   status: 0\n",
      "      jac: array([-0.00040927, -0.00077307, -0.00013642])\n"
     ]
    }
   ],
   "source": [
    "data = gen_data(Q, 5000)\n",
    "x0 = [random.random() for _ in range(len(x))]\n",
    "\n",
    "res = sp.optimize.minimize(lambda x: nll(x, data), x0, method=\"L-BFGS-B\", bounds=[(0.0001, 0.9999) for _ in range(len(x0))])\n",
    "print(res)"
   ]
  },
  {
   "cell_type": "code",
   "execution_count": 8,
   "metadata": {
    "collapsed": false
   },
   "outputs": [],
   "source": [
    "xopt = res['x']\n",
    "Qhat = create_rate_matrix_from_vector(xopt)"
   ]
  },
  {
   "cell_type": "code",
   "execution_count": 9,
   "metadata": {
    "collapsed": false
   },
   "outputs": [
    {
     "data": {
      "text/plain": [
       "array([[-0.99126448,  0.28202449,  0.70923999],\n",
       "       [ 0.71797551, -0.85506883,  0.13709332],\n",
       "       [ 0.29076001,  0.86290668, -1.15366669]])"
      ]
     },
     "execution_count": 9,
     "metadata": {},
     "output_type": "execute_result"
    }
   ],
   "source": [
    "Qhat"
   ]
  },
  {
   "cell_type": "code",
   "execution_count": 10,
   "metadata": {
    "collapsed": false
   },
   "outputs": [],
   "source": [
    "Phat = embedded_jump_chain(Qhat)\n",
    "pihat = equi_ctmc(Qhat)"
   ]
  },
  {
   "cell_type": "code",
   "execution_count": 11,
   "metadata": {
    "collapsed": false
   },
   "outputs": [
    {
     "data": {
      "text/plain": [
       "array([-0.11654506, -0.32660184,  0.4431469 ])"
      ]
     },
     "execution_count": 11,
     "metadata": {},
     "output_type": "execute_result"
    }
   ],
   "source": [
    "equi_deriv_ctmc(Qhat, Phat, pihat, (2, 1))"
   ]
  },
  {
   "cell_type": "code",
   "execution_count": 12,
   "metadata": {
    "collapsed": false
   },
   "outputs": [
    {
     "data": {
      "text/plain": [
       "3645.2590380467964"
      ]
     },
     "execution_count": 12,
     "metadata": {},
     "output_type": "execute_result"
    }
   ],
   "source": [
    "nll(xopt, data)"
   ]
  }
 ],
 "metadata": {
  "kernelspec": {
   "display_name": "Python 3",
   "language": "python",
   "name": "python3"
  },
  "language_info": {
   "codemirror_mode": {
    "name": "ipython",
    "version": 3
   },
   "file_extension": ".py",
   "mimetype": "text/x-python",
   "name": "python",
   "nbconvert_exporter": "python",
   "pygments_lexer": "ipython3",
   "version": "3.5.1"
  }
 },
 "nbformat": 4,
 "nbformat_minor": 0
}
